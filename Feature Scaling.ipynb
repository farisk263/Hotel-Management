{
 "cells": [
  {
   "cell_type": "code",
   "execution_count": 1,
   "id": "47ea27e7",
   "metadata": {},
   "outputs": [],
   "source": [
    "import pandas as pd\n",
    "dataset = pd.read_csv('10_initial_FS.csv')"
   ]
  },
  {
   "cell_type": "code",
   "execution_count": 2,
   "id": "b1a1003a",
   "metadata": {},
   "outputs": [],
   "source": [
    "X = dataset.iloc[:, :-1].values\n",
    "y = dataset.iloc[:, -1].values"
   ]
  },
  {
   "cell_type": "code",
   "execution_count": 3,
   "id": "560d026a",
   "metadata": {},
   "outputs": [],
   "source": [
    "from sklearn.preprocessing import LabelEncoder, OneHotEncoder"
   ]
  },
  {
   "cell_type": "code",
   "execution_count": 4,
   "id": "e2a34692",
   "metadata": {},
   "outputs": [],
   "source": [
    "labelencoder_X = LabelEncoder()\n",
    "X[:, 0] = labelencoder_X.fit_transform(X[:, 0])\n",
    "\n",
    "from sklearn.compose import ColumnTransformer\n",
    "ct = ColumnTransformer([('Country', OneHotEncoder(), [0])], remainder='passthrough')\n",
    "X = ct.fit_transform(X)"
   ]
  },
  {
   "cell_type": "code",
   "execution_count": 6,
   "id": "60b102c8",
   "metadata": {},
   "outputs": [],
   "source": [
    "from sklearn.preprocessing import StandardScaler\n",
    "sc_X = StandardScaler()\n",
    "X = sc_X.fit_transform(X)"
   ]
  },
  {
   "cell_type": "code",
   "execution_count": 8,
   "id": "1a742549",
   "metadata": {},
   "outputs": [
    {
     "data": {
      "text/plain": [
       "array([[ 0.81649658, -0.33333333, -0.65465367,  0.34591355, -0.79790769,\n",
       "        -1.8069119 ],\n",
       "       [-1.22474487, -0.33333333,  1.52752523,  1.84988552, -0.09534746,\n",
       "        -0.07508289],\n",
       "       [ 0.81649658, -0.33333333, -0.65465367,  1.09789954, -0.49681045,\n",
       "         1.12677741],\n",
       "       [ 0.81649658, -0.33333333, -0.65465367,  0.34591355,  1.46032162,\n",
       "         1.22296731],\n",
       "       [ 0.81649658, -0.33333333, -0.65465367, -1.15805842, -0.64735907,\n",
       "        -0.78483429],\n",
       "       [-1.22474487,  3.        , -0.65465367, -0.40607243,  2.21306472,\n",
       "         0.36116056],\n",
       "       [-1.22474487, -0.33333333,  1.52752523, -0.55646963,  0.40648127,\n",
       "         0.90865568],\n",
       "       [-1.22474487, -0.33333333,  1.52752523, -1.60925001, -0.89827343,\n",
       "        -1.05594604],\n",
       "       [ 0.81649658, -0.33333333, -0.65465367, -0.55646963, -0.69754194,\n",
       "         0.84902479],\n",
       "       [ 0.81649658, -0.33333333, -0.65465367,  0.64670795, -0.44662757,\n",
       "        -0.74581063]])"
      ]
     },
     "execution_count": 8,
     "metadata": {},
     "output_type": "execute_result"
    }
   ],
   "source": [
    "X"
   ]
  }
 ],
 "metadata": {
  "kernelspec": {
   "display_name": "Python 3 (ipykernel)",
   "language": "python",
   "name": "python3"
  },
  "language_info": {
   "codemirror_mode": {
    "name": "ipython",
    "version": 3
   },
   "file_extension": ".py",
   "mimetype": "text/x-python",
   "name": "python",
   "nbconvert_exporter": "python",
   "pygments_lexer": "ipython3",
   "version": "3.8.11"
  }
 },
 "nbformat": 4,
 "nbformat_minor": 5
}
